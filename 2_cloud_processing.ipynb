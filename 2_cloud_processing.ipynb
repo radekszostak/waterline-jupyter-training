{
 "cells": [
  {
   "cell_type": "markdown",
   "metadata": {},
   "source": [
    "This notebook is based on workshop from the [GeoPython 2021 Conference](https://2021.geopython.net).\n",
    "\n",
    "Authors: [Qiusheng Wu](https://github.com/giswqs), [Kel Markert](https://github.com/KMarkert)\n",
    "Link to original notebook: https://geemap.org/workshops/GeoPython_2021/"
   ]
  },
  {
   "cell_type": "markdown",
   "metadata": {},
   "source": [
    "## geemap basics\n",
    "\n",
    "### Import libraries"
   ]
  },
  {
   "cell_type": "code",
   "execution_count": 1,
   "metadata": {},
   "outputs": [],
   "source": [
    "import os\n",
    "import ee\n",
    "import geemap"
   ]
  },
  {
   "cell_type": "markdown",
   "metadata": {},
   "source": [
    "### Create an interactive map"
   ]
  },
  {
   "cell_type": "code",
   "execution_count": 2,
   "metadata": {},
   "outputs": [
    {
     "data": {
      "application/vnd.jupyter.widget-view+json": {
       "model_id": "d48a3785b21b4253991e6e75dff0ff36",
       "version_major": 2,
       "version_minor": 0
      },
      "text/plain": [
       "Map(center=[20, 0], controls=(WidgetControl(options=['position', 'transparent_bg'], widget=HBox(children=(Togg…"
      ]
     },
     "metadata": {},
     "output_type": "display_data"
    }
   ],
   "source": [
    "Map = geemap.Map()\n",
    "Map"
   ]
  },
  {
   "cell_type": "markdown",
   "metadata": {},
   "source": [
    "### Customize the default map\n",
    "\n",
    "You can specify the center(lat, lon) and zoom for the default map. The lite mode will only show the zoom in/out tool. "
   ]
  },
  {
   "cell_type": "code",
   "execution_count": 3,
   "metadata": {},
   "outputs": [
    {
     "data": {
      "application/vnd.jupyter.widget-view+json": {
       "model_id": "455b9dbef2544ec78fb29fac0fe00765",
       "version_major": 2,
       "version_minor": 0
      },
      "text/plain": [
       "Map(center=[40, -100], controls=(ZoomControl(options=['position', 'zoom_in_text', 'zoom_in_title', 'zoom_out_t…"
      ]
     },
     "metadata": {},
     "output_type": "display_data"
    }
   ],
   "source": [
    "Map = geemap.Map(center=(40, -100), zoom=4, lite_mode=True)\n",
    "Map"
   ]
  },
  {
   "cell_type": "markdown",
   "metadata": {},
   "source": [
    "### Add basemaps"
   ]
  },
  {
   "cell_type": "code",
   "execution_count": 4,
   "metadata": {},
   "outputs": [
    {
     "data": {
      "application/vnd.jupyter.widget-view+json": {
       "model_id": "350fc884ad7340aa8b2004426d598071",
       "version_major": 2,
       "version_minor": 0
      },
      "text/plain": [
       "Map(center=[20, 0], controls=(WidgetControl(options=['position', 'transparent_bg'], widget=HBox(children=(Togg…"
      ]
     },
     "metadata": {},
     "output_type": "display_data"
    }
   ],
   "source": [
    "Map = geemap.Map()\n",
    "Map.add_basemap('HYBRID')\n",
    "Map"
   ]
  },
  {
   "cell_type": "code",
   "execution_count": 5,
   "metadata": {},
   "outputs": [],
   "source": [
    "Map.add_basemap('OpenTopoMap')"
   ]
  },
  {
   "cell_type": "code",
   "execution_count": 6,
   "metadata": {},
   "outputs": [
    {
     "name": "stdout",
     "output_type": "stream",
     "text": [
      "OpenStreetMap\n",
      "ROADMAP\n",
      "SATELLITE\n",
      "TERRAIN\n",
      "HYBRID\n",
      "FWS NWI Wetlands\n",
      "FWS NWI Wetlands Raster\n",
      "NLCD 2019 CONUS Land Cover\n",
      "NLCD 2016 CONUS Land Cover\n",
      "NLCD 2013 CONUS Land Cover\n",
      "NLCD 2011 CONUS Land Cover\n",
      "NLCD 2008 CONUS Land Cover\n",
      "NLCD 2006 CONUS Land Cover\n",
      "NLCD 2004 CONUS Land Cover\n",
      "NLCD 2001 CONUS Land Cover\n",
      "USGS NAIP Imagery\n",
      "USGS NAIP Imagery False Color\n",
      "USGS NAIP Imagery NDVI\n",
      "USGS Hydrography\n",
      "USGS 3DEP Elevation\n",
      "ESA WorldCover 2020\n",
      "ESA WorldCover 2020 S2 FCC\n",
      "ESA WorldCover 2020 S2 TCC\n",
      "BasemapAT.basemap\n",
      "BasemapAT.grau\n",
      "BasemapAT.highdpi\n",
      "BasemapAT.orthofoto\n",
      "BasemapAT.overlay\n",
      "BasemapAT.surface\n",
      "BasemapAT.terrain\n",
      "CartoDB.DarkMatter\n",
      "CartoDB.DarkMatterNoLabels\n",
      "CartoDB.DarkMatterOnlyLabels\n",
      "CartoDB.Positron\n",
      "CartoDB.PositronNoLabels\n",
      "CartoDB.PositronOnlyLabels\n",
      "CartoDB.Voyager\n",
      "CartoDB.VoyagerLabelsUnder\n",
      "CartoDB.VoyagerNoLabels\n",
      "CartoDB.VoyagerOnlyLabels\n",
      "CyclOSM\n",
      "Esri.AntarcticBasemap\n",
      "Esri.AntarcticImagery\n",
      "Esri.ArcticImagery\n",
      "Esri.ArcticOceanBase\n",
      "Esri.ArcticOceanReference\n",
      "Esri.DeLorme\n",
      "Esri.NatGeoWorldMap\n",
      "Esri.OceanBasemap\n",
      "Esri.WorldGrayCanvas\n",
      "Esri.WorldImagery\n",
      "Esri.WorldPhysical\n",
      "Esri.WorldShadedRelief\n",
      "Esri.WorldStreetMap\n",
      "Esri.WorldTerrain\n",
      "Esri.WorldTopoMap\n",
      "FreeMapSK\n",
      "Gaode.Normal\n",
      "Gaode.Satellite\n",
      "GeoportailFrance.Adminexpress_cog_Latest\n",
      "GeoportailFrance.Adminexpress_cog_carto_Latest\n",
      "GeoportailFrance.Areamanagement_Zfu\n",
      "GeoportailFrance.Areamanagement_Zus\n",
      "GeoportailFrance.Bdcarto_etat_major_Niveau3\n",
      "GeoportailFrance.Bdcarto_etat_major_Niveau4\n",
      "GeoportailFrance.Buildings_Buildings\n",
      "GeoportailFrance.Communes_Prioritydisctrict\n",
      "GeoportailFrance.Dreal_Zonage_pinel\n",
      "GeoportailFrance.Elevation_Contour_Line\n",
      "GeoportailFrance.Elevation_Elevationgridcoverage_Shadow\n",
      "GeoportailFrance.Elevation_Elevationgridcoverage_Threshold\n",
      "GeoportailFrance.Elevation_Level0\n",
      "GeoportailFrance.Elevation_Slopes\n",
      "GeoportailFrance.Elevationgridcoverage_Highres_Quality\n",
      "GeoportailFrance.Forets_Publiques\n",
      "GeoportailFrance.Geographicalgridsystem_Dfci\n",
      "GeoportailFrance.Geographicalgridsystems_1900typemaps\n",
      "GeoportailFrance.Geographicalgridsystems_Bonne\n",
      "GeoportailFrance.Geographicalgridsystems_Etatmajor10\n",
      "GeoportailFrance.Geographicalgridsystems_Etatmajor40\n",
      "GeoportailFrance.Geographicalgridsystems_Maps_Bduni_J1\n",
      "GeoportailFrance.Geographicalgridsystems_Maps_Overview\n",
      "GeoportailFrance.Geographicalgridsystems_Maps_Scan50_1950\n",
      "GeoportailFrance.Geographicalgridsystems_Slopes_Mountain\n",
      "GeoportailFrance.Geographicalgridsystems_Slopes_Pac\n",
      "GeoportailFrance.Geographicalgridsystems_Terrier_v1\n",
      "GeoportailFrance.Geographicalgridsystems_Terrier_v2\n",
      "GeoportailFrance.Geographicalnames_Names\n",
      "GeoportailFrance.Hedge_Hedge\n",
      "GeoportailFrance.Hr_Orthoimagery_Orthophotos\n",
      "GeoportailFrance.Hydrography_Bcae_2022\n",
      "GeoportailFrance.Hydrography_Bcae_Latest\n",
      "GeoportailFrance.Hydrography_Hydrography\n",
      "GeoportailFrance.Insee_Filosofi_Enfants_0_17_Ans_Secret\n",
      "GeoportailFrance.Insee_Filosofi_Logements_Surface_Moyenne_Secret\n",
      "GeoportailFrance.Insee_Filosofi_Niveau_De_Vie_Secret\n",
      "GeoportailFrance.Insee_Filosofi_Part_Familles_Monoparentales_Secret\n",
      "GeoportailFrance.Insee_Filosofi_Part_Individus_25_39_Ans_Secret\n",
      "GeoportailFrance.Insee_Filosofi_Part_Individus_40_54_Ans_Secret\n",
      "GeoportailFrance.Insee_Filosofi_Part_Individus_55_64_Ans_Secret\n",
      "GeoportailFrance.Insee_Filosofi_Part_Logements_Apres_1990_Secret\n",
      "GeoportailFrance.Insee_Filosofi_Part_Logements_Avant_1945_Secret\n",
      "GeoportailFrance.Insee_Filosofi_Part_Logements_Collectifs_Secret\n",
      "GeoportailFrance.Insee_Filosofi_Part_Logements_Construits_1945_1970_Secret\n",
      "GeoportailFrance.Insee_Filosofi_Part_Logements_Construits_1970_1990_Secret\n",
      "GeoportailFrance.Insee_Filosofi_Part_Logements_Sociaux_Secret\n",
      "GeoportailFrance.Insee_Filosofi_Part_Menages_1_Personne_Secret\n",
      "GeoportailFrance.Insee_Filosofi_Part_Menages_5_Personnes_Ouplus_Secret\n",
      "GeoportailFrance.Insee_Filosofi_Part_Menages_Maison_Secret\n",
      "GeoportailFrance.Insee_Filosofi_Part_Menages_Pauvres_Secret\n",
      "GeoportailFrance.Insee_Filosofi_Part_Menages_Proprietaires_Secret\n",
      "GeoportailFrance.Insee_Filosofi_Part_Plus_65_Ans_Secret\n",
      "GeoportailFrance.Insee_Filosofi_Population\n",
      "GeoportailFrance.Landcover_Cha00_fr\n",
      "GeoportailFrance.Landcover_Cha06_dom\n",
      "GeoportailFrance.Landcover_Cha06_fr\n",
      "GeoportailFrance.Landcover_Cha12_dom\n",
      "GeoportailFrance.Landcover_Cha12_fr\n",
      "GeoportailFrance.Landcover_Cha18\n",
      "GeoportailFrance.Landcover_Cha18_dom\n",
      "GeoportailFrance.Landcover_Cha18_fr\n",
      "GeoportailFrance.Landcover_Clc00_dom\n",
      "GeoportailFrance.Landcover_Clc00_fr\n",
      "GeoportailFrance.Landcover_Clc00r_fr\n",
      "GeoportailFrance.Landcover_Clc06_dom\n",
      "GeoportailFrance.Landcover_Clc06_fr\n",
      "GeoportailFrance.Landcover_Clc06r_dom\n",
      "GeoportailFrance.Landcover_Clc06r_fr\n",
      "GeoportailFrance.Landcover_Clc12\n",
      "GeoportailFrance.Landcover_Clc12_dom\n",
      "GeoportailFrance.Landcover_Clc12_fr\n",
      "GeoportailFrance.Landcover_Clc12r\n",
      "GeoportailFrance.Landcover_Clc12r_dom\n",
      "GeoportailFrance.Landcover_Clc12r_fr\n",
      "GeoportailFrance.Landcover_Clc18\n",
      "GeoportailFrance.Landcover_Clc18_dom\n",
      "GeoportailFrance.Landcover_Clc18_fr\n",
      "GeoportailFrance.Landcover_Clc90_fr\n",
      "GeoportailFrance.Landcover_Forestareas\n",
      "GeoportailFrance.Landcover_Forestinventory_V1\n",
      "GeoportailFrance.Landcover_Forestinventory_V2\n",
      "GeoportailFrance.Landcover_Grid_Clc00\n",
      "GeoportailFrance.Landcover_Grid_Clc00_dom\n",
      "GeoportailFrance.Landcover_Grid_Clc00_fr\n",
      "GeoportailFrance.Landcover_Grid_Clc00r_fr\n",
      "GeoportailFrance.Landcover_Grid_Clc06\n",
      "GeoportailFrance.Landcover_Grid_Clc06_dom\n",
      "GeoportailFrance.Landcover_Grid_Clc06_fr\n",
      "GeoportailFrance.Landcover_Grid_Clc06r\n",
      "GeoportailFrance.Landcover_Grid_Clc06r_dom\n",
      "GeoportailFrance.Landcover_Grid_Clc06r_fr\n",
      "GeoportailFrance.Landcover_Grid_Clc12\n",
      "GeoportailFrance.Landcover_Grid_Clc90_fr\n",
      "GeoportailFrance.Landcover_Hr_Dlt_Clc12\n",
      "GeoportailFrance.Landcover_Hr_Dlt_Clc15\n",
      "GeoportailFrance.Landcover_Hr_Gra_Clc15\n",
      "GeoportailFrance.Landcover_Hr_Imd_Clc12\n",
      "GeoportailFrance.Landcover_Hr_Imd_Clc15\n",
      "GeoportailFrance.Landcover_Hr_Tcd_Clc12\n",
      "GeoportailFrance.Landcover_Hr_Tcd_Clc15\n",
      "GeoportailFrance.Landcover_Hr_Waw_Clc15\n",
      "GeoportailFrance.Landcover_Sylvoecoregions\n",
      "GeoportailFrance.Landcover_Sylvoecoregions_Alluvium\n",
      "GeoportailFrance.Landuse_Agriculture2007\n",
      "GeoportailFrance.Landuse_Agriculture2008\n",
      "GeoportailFrance.Landuse_Agriculture2009\n",
      "GeoportailFrance.Landuse_Agriculture2010\n",
      "GeoportailFrance.Landuse_Agriculture2011\n",
      "GeoportailFrance.Landuse_Agriculture2012\n",
      "GeoportailFrance.Landuse_Agriculture2013\n",
      "GeoportailFrance.Landuse_Agriculture2014\n",
      "GeoportailFrance.Landuse_Agriculture2015\n",
      "GeoportailFrance.Landuse_Agriculture2016\n",
      "GeoportailFrance.Landuse_Agriculture2017\n",
      "GeoportailFrance.Landuse_Agriculture2018\n",
      "GeoportailFrance.Landuse_Agriculture2019\n",
      "GeoportailFrance.Landuse_Agriculture2020\n",
      "GeoportailFrance.Limites_administratives_express_Latest\n",
      "GeoportailFrance.Ocsge_Constructions\n",
      "GeoportailFrance.Ocsge_Constructions_2002\n",
      "GeoportailFrance.Ocsge_Constructions_2014\n",
      "GeoportailFrance.Ocsge_Constructions_2016\n",
      "GeoportailFrance.Ocsge_Constructions_2019\n",
      "GeoportailFrance.Ocsge_Couverture\n",
      "GeoportailFrance.Ocsge_Couverture_2002\n",
      "GeoportailFrance.Ocsge_Couverture_2014\n",
      "GeoportailFrance.Ocsge_Couverture_2016\n",
      "GeoportailFrance.Ocsge_Couverture_2019\n",
      "GeoportailFrance.Ocsge_Usage\n",
      "GeoportailFrance.Ocsge_Usage_2002\n",
      "GeoportailFrance.Ocsge_Usage_2014\n",
      "GeoportailFrance.Ocsge_Usage_2016\n",
      "GeoportailFrance.Ocsge_Usage_2019\n",
      "GeoportailFrance.Ocsge_Visu_2016\n",
      "GeoportailFrance.Ocsge_Visu_2019\n",
      "GeoportailFrance.Ortho-sat-rapideye-2010_pyr-jpeg_wld_wm_20160801\n",
      "GeoportailFrance.Ortho-sat-rapideye-2011_pyr-jpeg_wld_wm_2011\n",
      "GeoportailFrance.Orthoimagery_Ortho_sat_Pleiades_2012\n",
      "GeoportailFrance.Orthoimagery_Ortho_sat_Pleiades_2013\n",
      "GeoportailFrance.Orthoimagery_Ortho_sat_Pleiades_2014\n",
      "GeoportailFrance.Orthoimagery_Ortho_sat_Pleiades_2015\n",
      "GeoportailFrance.Orthoimagery_Ortho_sat_Pleiades_2016\n",
      "GeoportailFrance.Orthoimagery_Ortho_sat_Pleiades_2017\n",
      "GeoportailFrance.Orthoimagery_Ortho_sat_Pleiades_2018\n",
      "GeoportailFrance.Orthoimagery_Ortho_sat_Pleiades_2019\n",
      "GeoportailFrance.Orthoimagery_Ortho_sat_Pleiades_2020\n",
      "GeoportailFrance.Orthoimagery_Ortho_sat_Pleiades_2021\n",
      "GeoportailFrance.Orthoimagery_Ortho_sat_Pleiades_2022\n",
      "GeoportailFrance.Orthoimagery_Ortho_sat_Rapideye_2010\n",
      "GeoportailFrance.Orthoimagery_Ortho_sat_Rapideye_2011\n",
      "GeoportailFrance.Orthoimagery_Ortho_sat_Spot_2013\n",
      "GeoportailFrance.Orthoimagery_Ortho_sat_Spot_2014\n",
      "GeoportailFrance.Orthoimagery_Ortho_sat_Spot_2015\n",
      "GeoportailFrance.Orthoimagery_Ortho_sat_Spot_2016\n",
      "GeoportailFrance.Orthoimagery_Ortho_sat_Spot_2017\n",
      "GeoportailFrance.Orthoimagery_Ortho_sat_Spot_2018\n",
      "GeoportailFrance.Orthoimagery_Ortho_sat_Spot_2019\n",
      "GeoportailFrance.Orthoimagery_Ortho_sat_Spot_2020\n",
      "GeoportailFrance.Orthoimagery_Ortho_sat_Spot_2021\n",
      "GeoportailFrance.Orthoimagery_Orthophos_Restrictedareas\n",
      "GeoportailFrance.Orthoimagery_Orthophotos2000\n",
      "GeoportailFrance.Orthoimagery_Orthophotos2000_2005\n",
      "GeoportailFrance.Orthoimagery_Orthophotos2001\n",
      "GeoportailFrance.Orthoimagery_Orthophotos2002\n",
      "GeoportailFrance.Orthoimagery_Orthophotos2003\n",
      "GeoportailFrance.Orthoimagery_Orthophotos2004\n",
      "GeoportailFrance.Orthoimagery_Orthophotos2005\n",
      "GeoportailFrance.Orthoimagery_Orthophotos2006\n",
      "GeoportailFrance.Orthoimagery_Orthophotos2006_2010\n",
      "GeoportailFrance.Orthoimagery_Orthophotos2007\n",
      "GeoportailFrance.Orthoimagery_Orthophotos2008\n",
      "GeoportailFrance.Orthoimagery_Orthophotos2009\n",
      "GeoportailFrance.Orthoimagery_Orthophotos2010\n",
      "GeoportailFrance.Orthoimagery_Orthophotos2011\n",
      "GeoportailFrance.Orthoimagery_Orthophotos2011_2015\n",
      "GeoportailFrance.Orthoimagery_Orthophotos2012\n",
      "GeoportailFrance.Orthoimagery_Orthophotos2013\n",
      "GeoportailFrance.Orthoimagery_Orthophotos2014\n",
      "GeoportailFrance.Orthoimagery_Orthophotos2015\n",
      "GeoportailFrance.Orthoimagery_Orthophotos2016\n",
      "GeoportailFrance.Orthoimagery_Orthophotos2017\n",
      "GeoportailFrance.Orthoimagery_Orthophotos2018\n",
      "GeoportailFrance.Orthoimagery_Orthophotos2019\n",
      "GeoportailFrance.Orthoimagery_Orthophotos2020\n",
      "GeoportailFrance.Orthoimagery_Orthophotos_1950_1965\n",
      "GeoportailFrance.Orthoimagery_Orthophotos_1980_1995\n",
      "GeoportailFrance.Orthoimagery_Orthophotos_Bdortho\n",
      "GeoportailFrance.Orthoimagery_Orthophotos_Coast2000\n",
      "GeoportailFrance.Orthoimagery_Orthophotos_Ilesdunord\n",
      "GeoportailFrance.Orthoimagery_Orthophotos_Irc\n",
      "GeoportailFrance.Orthoimagery_Orthophotos_Irc_2013\n",
      "GeoportailFrance.Orthoimagery_Orthophotos_Irc_2014\n",
      "GeoportailFrance.Orthoimagery_Orthophotos_Irc_2015\n",
      "GeoportailFrance.Orthoimagery_Orthophotos_Irc_2016\n",
      "GeoportailFrance.Orthoimagery_Orthophotos_Irc_2017\n",
      "GeoportailFrance.Orthoimagery_Orthophotos_Irc_2018\n",
      "GeoportailFrance.Orthoimagery_Orthophotos_Irc_2019\n",
      "GeoportailFrance.Orthoimagery_Orthophotos_Irc_2020\n",
      "GeoportailFrance.Orthoimagery_Orthophotos_Irc_express_2018\n",
      "GeoportailFrance.Orthoimagery_Orthophotos_Irc_express_2019\n",
      "GeoportailFrance.Orthoimagery_Orthophotos_Irc_express_2020\n",
      "GeoportailFrance.Orthoimagery_Orthophotos_Irc_express_2021\n",
      "GeoportailFrance.Orthoimagery_Orthophotos_Irc_express_2022\n",
      "GeoportailFrance.Orthoimagery_Orthophotos_Ortho_asp_pac2020\n",
      "GeoportailFrance.Orthoimagery_Orthophotos_Ortho_asp_pac2021\n",
      "GeoportailFrance.Orthoimagery_Orthophotos_Ortho_asp_pac2022\n",
      "GeoportailFrance.Orthoimagery_Orthophotos_Ortho_express_2017\n",
      "GeoportailFrance.Orthoimagery_Orthophotos_Ortho_express_2019\n",
      "GeoportailFrance.Orthoimagery_Orthophotos_Ortho_express_2020\n",
      "GeoportailFrance.Orthoimagery_Orthophotos_Ortho_express_2021\n",
      "GeoportailFrance.Orthoimagery_Orthophotos_Ortho_express_2022\n",
      "GeoportailFrance.Orthoimagery_Orthophotos_Socle_asp_2018\n",
      "GeoportailFrance.Orthoimagery_Orthophotos_Urgence_Alex\n",
      "GeoportailFrance.Pcrs_Lamb93\n",
      "GeoportailFrance.Protectedareas_Apb\n",
      "GeoportailFrance.Protectedareas_Apg\n",
      "GeoportailFrance.Protectedareas_Aphn\n",
      "GeoportailFrance.Protectedareas_Bios\n",
      "GeoportailFrance.Protectedareas_Gp\n",
      "GeoportailFrance.Protectedareas_Inpg\n",
      "GeoportailFrance.Protectedareas_Mnhn_Cdl_Parcels\n",
      "GeoportailFrance.Protectedareas_Mnhn_Cdl_Perimeter\n",
      "GeoportailFrance.Protectedareas_Mnhn_Conservatoires\n",
      "GeoportailFrance.Protectedareas_Mnhn_Rn_Perimeter\n",
      "GeoportailFrance.Protectedareas_Pn\n",
      "GeoportailFrance.Protectedareas_Pnm\n",
      "GeoportailFrance.Protectedareas_Pnr\n",
      "GeoportailFrance.Protectedareas_Prsf\n",
      "GeoportailFrance.Protectedareas_Ramsar\n",
      "GeoportailFrance.Protectedareas_Rb\n",
      "GeoportailFrance.Protectedareas_Ripn\n",
      "GeoportailFrance.Protectedareas_Rn\n",
      "GeoportailFrance.Protectedareas_Rnc\n",
      "GeoportailFrance.Protectedareas_Rncf\n",
      "GeoportailFrance.Protectedareas_Sic\n",
      "GeoportailFrance.Protectedareas_Znieff1\n",
      "GeoportailFrance.Protectedareas_Znieff1_Sea\n",
      "GeoportailFrance.Protectedareas_Znieff2\n",
      "GeoportailFrance.Protectedareas_Znieff2_Sea\n",
      "GeoportailFrance.Protectedareas_Zps\n",
      "GeoportailFrance.Protectedsites_Mnhn_Reserves_regionales\n",
      "GeoportailFrance.Securoute_Te_1te\n",
      "GeoportailFrance.Securoute_Te_2te48\n",
      "GeoportailFrance.Securoute_Te_All\n",
      "GeoportailFrance.Securoute_Te_Oa\n",
      "GeoportailFrance.Securoute_Te_Pn\n",
      "GeoportailFrance.Securoute_Te_Pnd\n",
      "GeoportailFrance.Securoute_Te_Te120\n",
      "GeoportailFrance.Securoute_Te_Te72\n",
      "GeoportailFrance.Securoute_Te_Te94\n",
      "GeoportailFrance.Thr_Orthoimagery_Orthophotos\n",
      "GeoportailFrance.Transportnetwork_Commontransportelements_Markerpost\n",
      "GeoportailFrance.Transportnetworks_Railways\n",
      "GeoportailFrance.Transportnetworks_Roads\n",
      "GeoportailFrance.Transportnetworks_Roads_Direction\n",
      "GeoportailFrance.Transportnetworks_Runways\n",
      "GeoportailFrance.Transports_Drones_Restrictions\n",
      "GeoportailFrance.Utilityandgovernmentalservices_All\n",
      "GeoportailFrance.orthos\n",
      "GeoportailFrance.parcels\n",
      "GeoportailFrance.plan\n",
      "HikeBike.HikeBike\n",
      "HikeBike.HillShading\n",
      "JusticeMap.americanIndian\n",
      "JusticeMap.asian\n",
      "JusticeMap.black\n",
      "JusticeMap.hispanic\n",
      "JusticeMap.income\n",
      "JusticeMap.multi\n",
      "JusticeMap.nonWhite\n",
      "JusticeMap.plurality\n",
      "JusticeMap.white\n",
      "MtbMap\n",
      "NASAGIBS.ASTER_GDEM_Greyscale_Shaded_Relief\n",
      "NASAGIBS.BlueMarble\n",
      "NASAGIBS.BlueMarble3031\n",
      "NASAGIBS.BlueMarble3413\n",
      "NASAGIBS.ModisAquaBands721CR\n",
      "NASAGIBS.ModisAquaTrueColorCR\n",
      "NASAGIBS.ModisTerraAOD\n",
      "NASAGIBS.ModisTerraBands367CR\n",
      "NASAGIBS.ModisTerraBands721CR\n",
      "NASAGIBS.ModisTerraChlorophyll\n",
      "NASAGIBS.ModisTerraLSTDay\n",
      "NASAGIBS.ModisTerraSnowCover\n",
      "NASAGIBS.ModisTerraTrueColorCR\n",
      "NASAGIBS.ViirsEarthAtNight2012\n",
      "NASAGIBS.ViirsTrueColorCR\n",
      "NLS\n",
      "OPNVKarte\n",
      "OneMapSG.Default\n",
      "OneMapSG.Grey\n",
      "OneMapSG.LandLot\n",
      "OneMapSG.Night\n",
      "OneMapSG.Original\n",
      "OpenAIP\n",
      "OpenFireMap\n",
      "OpenRailwayMap\n",
      "OpenSeaMap\n",
      "OpenSnowMap.pistes\n",
      "OpenStreetMap.BZH\n",
      "OpenStreetMap.BlackAndWhite\n",
      "OpenStreetMap.CH\n",
      "OpenStreetMap.DE\n",
      "OpenStreetMap.France\n",
      "OpenStreetMap.HOT\n",
      "OpenStreetMap.Mapnik\n",
      "OpenTopoMap\n",
      "SafeCast\n",
      "Stadia.AlidadeSmooth\n",
      "Stadia.AlidadeSmoothDark\n",
      "Stadia.OSMBright\n",
      "Stadia.Outdoors\n",
      "Stamen.Terrain\n",
      "Stamen.TerrainBackground\n",
      "Stamen.TerrainLabels\n",
      "Stamen.Toner\n",
      "Stamen.TonerBackground\n",
      "Stamen.TonerHybrid\n",
      "Stamen.TonerLabels\n",
      "Stamen.TonerLines\n",
      "Stamen.TonerLite\n",
      "Stamen.TopOSMFeatures\n",
      "Stamen.TopOSMRelief\n",
      "Stamen.Watercolor\n",
      "Strava.All\n",
      "Strava.Ride\n",
      "Strava.Run\n",
      "Strava.Water\n",
      "Strava.Winter\n",
      "SwissFederalGeoportal.JourneyThroughTime\n",
      "SwissFederalGeoportal.NationalMapColor\n",
      "SwissFederalGeoportal.NationalMapGrey\n",
      "SwissFederalGeoportal.SWISSIMAGE\n",
      "USGS.USImagery\n",
      "USGS.USImageryTopo\n",
      "USGS.USTopo\n",
      "WaymarkedTrails.cycling\n",
      "WaymarkedTrails.hiking\n",
      "WaymarkedTrails.mtb\n",
      "WaymarkedTrails.riding\n",
      "WaymarkedTrails.skating\n",
      "WaymarkedTrails.slopes\n",
      "nlmaps.grijs\n",
      "nlmaps.luchtfoto\n",
      "nlmaps.pastel\n",
      "nlmaps.standaard\n",
      "nlmaps.water\n"
     ]
    }
   ],
   "source": [
    "for basemap in geemap.basemaps.keys():\n",
    "    print(basemap)"
   ]
  },
  {
   "cell_type": "markdown",
   "metadata": {},
   "source": [
    "### Add WMS and XYZ tile layers\n",
    "\n",
    "Examples: https://viewer.nationalmap.gov/services/\n"
   ]
  },
  {
   "cell_type": "code",
   "execution_count": 8,
   "metadata": {},
   "outputs": [
    {
     "data": {
      "application/vnd.jupyter.widget-view+json": {
       "model_id": "73a07207df394e2380303482644b6703",
       "version_major": 2,
       "version_minor": 0
      },
      "text/plain": [
       "Map(center=[20, 0], controls=(WidgetControl(options=['position', 'transparent_bg'], widget=HBox(children=(Togg…"
      ]
     },
     "metadata": {},
     "output_type": "display_data"
    }
   ],
   "source": [
    "Map = geemap.Map()\n",
    "\n",
    "url = 'https://mt1.google.com/vt/lyrs=p&x={x}&y={y}&z={z}'\n",
    "Map.add_tile_layer(url, name='Google Terrain', attribution='Google')\n",
    "Map"
   ]
  },
  {
   "cell_type": "code",
   "execution_count": 9,
   "metadata": {},
   "outputs": [],
   "source": [
    "naip_url = 'https://services.nationalmap.gov/arcgis/services/USGSNAIPImagery/ImageServer/WMSServer?'\n",
    "Map.add_wms_layer(\n",
    "    url=naip_url, layers='0', name='NAIP Imagery', format='image/png', shown=True\n",
    ")"
   ]
  },
  {
   "cell_type": "markdown",
   "metadata": {},
   "source": [
    "### Use drawing tools"
   ]
  },
  {
   "cell_type": "code",
   "execution_count": 10,
   "metadata": {},
   "outputs": [
    {
     "data": {
      "application/vnd.jupyter.widget-view+json": {
       "model_id": "ae179211fd3741e292531f146ffabf26",
       "version_major": 2,
       "version_minor": 0
      },
      "text/plain": [
       "Map(center=[20, 0], controls=(WidgetControl(options=['position', 'transparent_bg'], widget=HBox(children=(Togg…"
      ]
     },
     "metadata": {},
     "output_type": "display_data"
    }
   ],
   "source": [
    "Map = geemap.Map()\n",
    "Map"
   ]
  },
  {
   "cell_type": "code",
   "execution_count": 11,
   "metadata": {},
   "outputs": [
    {
     "data": {
      "text/plain": [
       "{'geodesic': False,\n",
       " 'type': 'Polygon',\n",
       " 'coordinates': [[[-112.721906, 42.604856],\n",
       "   [-85.305909, 33.490102],\n",
       "   [-74.409807, 48.50496],\n",
       "   [-102.880266, 51.443053],\n",
       "   [-112.721906, 42.604856]]]}"
      ]
     },
     "execution_count": 11,
     "metadata": {},
     "output_type": "execute_result"
    }
   ],
   "source": [
    "Map.user_roi.getInfo()"
   ]
  },
  {
   "cell_type": "code",
   "execution_count": 12,
   "metadata": {},
   "outputs": [
    {
     "data": {
      "text/plain": [
       "{'type': 'FeatureCollection',\n",
       " 'columns': {'system:index': 'String'},\n",
       " 'features': [{'type': 'Feature',\n",
       "   'geometry': {'geodesic': False,\n",
       "    'type': 'Polygon',\n",
       "    'coordinates': [[[-112.721906, 42.604856],\n",
       "      [-85.305909, 33.490102],\n",
       "      [-74.409807, 48.50496],\n",
       "      [-102.880266, 51.443053],\n",
       "      [-112.721906, 42.604856]]]},\n",
       "   'id': '0',\n",
       "   'properties': {}}]}"
      ]
     },
     "execution_count": 12,
     "metadata": {},
     "output_type": "execute_result"
    }
   ],
   "source": [
    "Map.user_rois.getInfo()"
   ]
  },
  {
   "cell_type": "markdown",
   "metadata": {},
   "source": [
    "### Convert GEE JavaScript to Python\n",
    "\n",
    "https://developers.google.com/earth-engine/guides/image_visualization"
   ]
  },
  {
   "cell_type": "code",
   "execution_count": 13,
   "metadata": {},
   "outputs": [],
   "source": [
    "js_snippet = \"\"\"\n",
    "// Load an image.\n",
    "var image = ee.Image('LANDSAT/LC08/C01/T1_TOA/LC08_044034_20140318');\n",
    "\n",
    "// Define the visualization parameters.\n",
    "var vizParams = {\n",
    "  bands: ['B5', 'B4', 'B3'],\n",
    "  min: 0,\n",
    "  max: 0.5,\n",
    "  gamma: [0.95, 1.1, 1]\n",
    "};\n",
    "\n",
    "// Center the map and display the image.\n",
    "Map.setCenter(-122.1899, 37.5010, 10); // San Francisco Bay\n",
    "Map.addLayer(image, vizParams, 'false color composite');\n",
    "\n",
    "\"\"\""
   ]
  },
  {
   "cell_type": "code",
   "execution_count": 14,
   "metadata": {},
   "outputs": [],
   "source": [
    "geemap.js_snippet_to_py(\n",
    "    js_snippet, add_new_cell=True, import_ee=True, import_geemap=True, show_map=True\n",
    ")"
   ]
  },
  {
   "cell_type": "code",
   "execution_count": 15,
   "metadata": {},
   "outputs": [
    {
     "data": {
      "application/vnd.jupyter.widget-view+json": {
       "model_id": "c6e5d9cd49f34586958185f9c088360c",
       "version_major": 2,
       "version_minor": 0
      },
      "text/plain": [
       "Map(center=[37.501, -122.1899], controls=(WidgetControl(options=['position', 'transparent_bg'], widget=HBox(ch…"
      ]
     },
     "metadata": {},
     "output_type": "display_data"
    }
   ],
   "source": [
    "import ee\n",
    "import geemap\n",
    "\n",
    "Map = geemap.Map()\n",
    "\n",
    "# Load an image.\n",
    "image = ee.Image('LANDSAT/LC08/C01/T1_TOA/LC08_044034_20140318')\n",
    "\n",
    "# Define the visualization parameters.\n",
    "vizParams = {\n",
    "  'bands': ['B5', 'B4', 'B3'],\n",
    "  'min': 0,\n",
    "  'max': 0.5,\n",
    "  'gamma': [0.95, 1.1, 1]\n",
    "}\n",
    "\n",
    "# Center the map and display the image.\n",
    "Map.setCenter(-122.1899, 37.5010, 10); # San Francisco Bay\n",
    "Map.addLayer(image, vizParams, 'False color composite')\n",
    "\n",
    "Map"
   ]
  },
  {
   "cell_type": "markdown",
   "metadata": {},
   "source": [
    "## Earth Engine datasets\n",
    "\n",
    "### Load Earth Engine datasets"
   ]
  },
  {
   "cell_type": "code",
   "execution_count": 16,
   "metadata": {},
   "outputs": [
    {
     "data": {
      "application/vnd.jupyter.widget-view+json": {
       "model_id": "bcc989f7569040788a361966e5e475aa",
       "version_major": 2,
       "version_minor": 0
      },
      "text/plain": [
       "Map(center=[20, 0], controls=(WidgetControl(options=['position', 'transparent_bg'], widget=HBox(children=(Togg…"
      ]
     },
     "metadata": {},
     "output_type": "display_data"
    }
   ],
   "source": [
    "Map = geemap.Map()\n",
    "\n",
    "# Add Earth Engine datasets\n",
    "dem = ee.Image('USGS/SRTMGL1_003')\n",
    "landcover = ee.Image(\"ESA/GLOBCOVER_L4_200901_200912_V2_3\").select('landcover')\n",
    "landsat7 = ee.Image('LANDSAT/LE7_TOA_5YEAR/1999_2003')\n",
    "states = ee.FeatureCollection(\"TIGER/2018/States\")\n",
    "\n",
    "# Set visualization parameters.\n",
    "vis_params = {\n",
    "    'min': 0,\n",
    "    'max': 4000,\n",
    "    'palette': ['006633', 'E5FFCC', '662A00', 'D8D8D8', 'F5F5F5'],\n",
    "}\n",
    "\n",
    "# Add Earth Engine layers to Map\n",
    "Map.addLayer(dem, vis_params, 'SRTM DEM', True, 0.5)\n",
    "Map.addLayer(landcover, {}, 'Land cover')\n",
    "Map.addLayer(\n",
    "    landsat7,\n",
    "    {'bands': ['B4', 'B3', 'B2'], 'min': 20, 'max': 200, 'gamma': 1.5},\n",
    "    'Landsat 7',\n",
    ")\n",
    "Map.addLayer(states, {}, \"US States\")\n",
    "\n",
    "Map"
   ]
  },
  {
   "cell_type": "markdown",
   "metadata": {},
   "source": [
    "### Search the Earth Engine Data Catalog"
   ]
  },
  {
   "cell_type": "code",
   "execution_count": 17,
   "metadata": {},
   "outputs": [
    {
     "data": {
      "application/vnd.jupyter.widget-view+json": {
       "model_id": "ed140871e35a47cf99e64d19902908e1",
       "version_major": 2,
       "version_minor": 0
      },
      "text/plain": [
       "Map(center=[20, 0], controls=(WidgetControl(options=['position', 'transparent_bg'], widget=HBox(children=(Togg…"
      ]
     },
     "metadata": {},
     "output_type": "display_data"
    }
   ],
   "source": [
    "Map = geemap.Map()\n",
    "Map"
   ]
  },
  {
   "cell_type": "code",
   "execution_count": 18,
   "metadata": {},
   "outputs": [],
   "source": [
    "dem = ee.Image('CGIAR/SRTM90_V4')\n",
    "Map.addLayer(dem, {}, \"CGIAR/SRTM90_V4\")"
   ]
  },
  {
   "cell_type": "code",
   "execution_count": 19,
   "metadata": {},
   "outputs": [],
   "source": [
    "vis_params = {\n",
    "    'min': 0,\n",
    "    'max': 4000,\n",
    "    'palette': ['006633', 'E5FFCC', '662A00', 'D8D8D8', 'F5F5F5'],\n",
    "}\n",
    "\n",
    "Map.addLayer(dem, vis_params, \"DEM\")"
   ]
  },
  {
   "cell_type": "markdown",
   "metadata": {},
   "source": [
    "### Use the datasets module"
   ]
  },
  {
   "cell_type": "code",
   "execution_count": 20,
   "metadata": {},
   "outputs": [],
   "source": [
    "from geemap.datasets import DATA"
   ]
  },
  {
   "cell_type": "code",
   "execution_count": 21,
   "metadata": {},
   "outputs": [
    {
     "data": {
      "application/vnd.jupyter.widget-view+json": {
       "model_id": "56a29c7182e641c8b7beb72d1d919dc1",
       "version_major": 2,
       "version_minor": 0
      },
      "text/plain": [
       "Map(center=[20, 0], controls=(WidgetControl(options=['position', 'transparent_bg'], widget=HBox(children=(Togg…"
      ]
     },
     "metadata": {},
     "output_type": "display_data"
    }
   ],
   "source": [
    "Map = geemap.Map()\n",
    "\n",
    "dem = ee.Image(DATA.USGS_SRTMGL1_003)\n",
    "\n",
    "vis_params = {\n",
    "    'min': 0,\n",
    "    'max': 4000,\n",
    "    'palette': ['006633', 'E5FFCC', '662A00', 'D8D8D8', 'F5F5F5'],\n",
    "}\n",
    "\n",
    "Map.addLayer(dem, vis_params, 'SRTM DEM')\n",
    "Map"
   ]
  },
  {
   "cell_type": "markdown",
   "metadata": {},
   "source": [
    "### Use the Inspector tool"
   ]
  },
  {
   "cell_type": "code",
   "execution_count": 23,
   "metadata": {},
   "outputs": [
    {
     "data": {
      "application/vnd.jupyter.widget-view+json": {
       "model_id": "e8a326cd14984190b8251704de0dcabc",
       "version_major": 2,
       "version_minor": 0
      },
      "text/plain": [
       "Map(center=[20, 0], controls=(WidgetControl(options=['position', 'transparent_bg'], widget=HBox(children=(Togg…"
      ]
     },
     "metadata": {},
     "output_type": "display_data"
    }
   ],
   "source": [
    "Map = geemap.Map()\n",
    "\n",
    "# Add Earth Engine datasets\n",
    "dem = ee.Image('USGS/SRTMGL1_003')\n",
    "landcover = ee.Image(\"ESA/GLOBCOVER_L4_200901_200912_V2_3\").select('landcover')\n",
    "landsat7 = ee.Image('LANDSAT/LE7_TOA_5YEAR/1999_2003').select(\n",
    "    ['B1', 'B2', 'B3', 'B4', 'B5', 'B7']\n",
    ")\n",
    "states = ee.FeatureCollection(\"TIGER/2018/States\")\n",
    "\n",
    "# Set visualization parameters.\n",
    "vis_params = {\n",
    "    'min': 0,\n",
    "    'max': 4000,\n",
    "    'palette': ['006633', 'E5FFCC', '662A00', 'D8D8D8', 'F5F5F5'],\n",
    "}\n",
    "\n",
    "# Add Earth Engine layers to Map\n",
    "Map.addLayer(dem, vis_params, 'SRTM DEM', True, 0.5)\n",
    "Map.addLayer(landcover, {}, 'Land cover')\n",
    "Map.addLayer(\n",
    "    landsat7,\n",
    "    {'bands': ['B4', 'B3', 'B2'], 'min': 20, 'max': 200, 'gamma': 1.5},\n",
    "    'Landsat 7',\n",
    ")\n",
    "Map.addLayer(states, {}, \"US States\")\n",
    "\n",
    "Map"
   ]
  },
  {
   "cell_type": "markdown",
   "metadata": {},
   "source": [
    "## Data visualization \n",
    "\n",
    "### Use the Plotting tool"
   ]
  },
  {
   "cell_type": "markdown",
   "metadata": {},
   "source": [
    "![](https://i.imgur.com/t4jKsNo.png)"
   ]
  },
  {
   "cell_type": "code",
   "execution_count": 24,
   "metadata": {},
   "outputs": [
    {
     "data": {
      "application/vnd.jupyter.widget-view+json": {
       "model_id": "6c954c1f35f14704a32f13a919bd8d96",
       "version_major": 2,
       "version_minor": 0
      },
      "text/plain": [
       "Map(center=[20, 0], controls=(WidgetControl(options=['position', 'transparent_bg'], widget=HBox(children=(Togg…"
      ]
     },
     "metadata": {},
     "output_type": "display_data"
    }
   ],
   "source": [
    "Map = geemap.Map()\n",
    "\n",
    "landsat7 = ee.Image('LANDSAT/LE7_TOA_5YEAR/1999_2003').select(\n",
    "    ['B1', 'B2', 'B3', 'B4', 'B5', 'B7']\n",
    ")\n",
    "\n",
    "landsat_vis = {'bands': ['B4', 'B3', 'B2'], 'gamma': 1.4}\n",
    "Map.addLayer(landsat7, landsat_vis, \"Landsat\")\n",
    "\n",
    "hyperion = ee.ImageCollection('EO1/HYPERION').filter(\n",
    "    ee.Filter.date('2016-01-01', '2017-03-01')\n",
    ")\n",
    "\n",
    "hyperion_vis = {\n",
    "    'min': 1000.0,\n",
    "    'max': 14000.0,\n",
    "    'gamma': 2.5,\n",
    "}\n",
    "Map.addLayer(hyperion, hyperion_vis, 'Hyperion')\n",
    "\n",
    "Map"
   ]
  },
  {
   "cell_type": "markdown",
   "metadata": {},
   "source": [
    "### Change layer opacity"
   ]
  },
  {
   "cell_type": "code",
   "execution_count": 25,
   "metadata": {},
   "outputs": [
    {
     "data": {
      "application/vnd.jupyter.widget-view+json": {
       "model_id": "ea49be3de5e64421945869c36f8c31ab",
       "version_major": 2,
       "version_minor": 0
      },
      "text/plain": [
       "Map(center=[40, -100], controls=(WidgetControl(options=['position', 'transparent_bg'], widget=HBox(children=(T…"
      ]
     },
     "metadata": {},
     "output_type": "display_data"
    }
   ],
   "source": [
    "Map = geemap.Map(center=(40, -100), zoom=4)\n",
    "\n",
    "dem = ee.Image('USGS/SRTMGL1_003')\n",
    "states = ee.FeatureCollection(\"TIGER/2018/States\")\n",
    "\n",
    "vis_params = {\n",
    "    'min': 0,\n",
    "    'max': 4000,\n",
    "    'palette': ['006633', 'E5FFCC', '662A00', 'D8D8D8', 'F5F5F5'],\n",
    "}\n",
    "\n",
    "Map.addLayer(dem, vis_params, 'SRTM DEM', True, 1)\n",
    "Map.addLayer(states, {}, \"US States\", True)\n",
    "\n",
    "Map"
   ]
  },
  {
   "cell_type": "markdown",
   "metadata": {},
   "source": [
    "### Visualize raster data"
   ]
  },
  {
   "cell_type": "code",
   "execution_count": 26,
   "metadata": {},
   "outputs": [
    {
     "data": {
      "application/vnd.jupyter.widget-view+json": {
       "model_id": "9ca1ba24267c4c7bae36e3276441e6f7",
       "version_major": 2,
       "version_minor": 0
      },
      "text/plain": [
       "Map(center=[40, -100], controls=(WidgetControl(options=['position', 'transparent_bg'], widget=HBox(children=(T…"
      ]
     },
     "metadata": {},
     "output_type": "display_data"
    }
   ],
   "source": [
    "Map = geemap.Map(center=(40, -100), zoom=4)\n",
    "\n",
    "# Add Earth Engine dataset\n",
    "dem = ee.Image('USGS/SRTMGL1_003')\n",
    "landsat7 = ee.Image('LANDSAT/LE7_TOA_5YEAR/1999_2003').select(\n",
    "    ['B1', 'B2', 'B3', 'B4', 'B5', 'B7']\n",
    ")\n",
    "\n",
    "vis_params = {\n",
    "    'min': 0,\n",
    "    'max': 4000,\n",
    "    'palette': ['006633', 'E5FFCC', '662A00', 'D8D8D8', 'F5F5F5'],\n",
    "}\n",
    "\n",
    "Map.addLayer(dem, vis_params, 'SRTM DEM', True, 1)\n",
    "Map.addLayer(\n",
    "    landsat7,\n",
    "    {'bands': ['B4', 'B3', 'B2'], 'min': 20, 'max': 200, 'gamma': 2},\n",
    "    'Landsat 7',\n",
    ")\n",
    "Map"
   ]
  },
  {
   "cell_type": "markdown",
   "metadata": {},
   "source": [
    "### Visualize vector data"
   ]
  },
  {
   "cell_type": "code",
   "execution_count": 27,
   "metadata": {},
   "outputs": [
    {
     "data": {
      "application/vnd.jupyter.widget-view+json": {
       "model_id": "4bcbca35ddcd405a90e52c10931a1d53",
       "version_major": 2,
       "version_minor": 0
      },
      "text/plain": [
       "Map(center=[20, 0], controls=(WidgetControl(options=['position', 'transparent_bg'], widget=HBox(children=(Togg…"
      ]
     },
     "metadata": {},
     "output_type": "display_data"
    }
   ],
   "source": [
    "Map = geemap.Map()\n",
    "\n",
    "states = ee.FeatureCollection(\"TIGER/2018/States\")\n",
    "Map.addLayer(states, {}, \"US States\")\n",
    "Map"
   ]
  },
  {
   "cell_type": "code",
   "execution_count": 28,
   "metadata": {},
   "outputs": [],
   "source": [
    "vis_params = {\n",
    "    'color': '000000',\n",
    "    'colorOpacity': 1,\n",
    "    'pointSize': 3,\n",
    "    'pointShape': 'circle',\n",
    "    'width': 2,\n",
    "    'lineType': 'solid',\n",
    "    'fillColorOpacity': 0.66,\n",
    "}\n",
    "\n",
    "palette = ['006633', 'E5FFCC', '662A00', 'D8D8D8', 'F5F5F5']\n",
    "\n",
    "Map.add_styled_vector(\n",
    "    states, column=\"NAME\", palette=palette, layer_name=\"Styled vector\", **vis_params\n",
    ")"
   ]
  },
  {
   "cell_type": "markdown",
   "metadata": {},
   "source": [
    "### Add a legend"
   ]
  },
  {
   "cell_type": "code",
   "execution_count": 29,
   "metadata": {
    "tags": []
   },
   "outputs": [
    {
     "name": "stdout",
     "output_type": "stream",
     "text": [
      "NLCD\n",
      "ESA_WorldCover\n",
      "ESRI_LandCover\n",
      "ESRI_LandCover_TS\n",
      "Dynamic_World\n",
      "NWI\n",
      "MODIS/051/MCD12Q1\n",
      "MODIS/006/MCD12Q1\n",
      "GLOBCOVER\n",
      "JAXA/PALSAR\n",
      "Oxford\n",
      "AAFC/ACI\n",
      "COPERNICUS/CORINE/V20/100m\n",
      "COPERNICUS/Landcover/100m/Proba-V/Global\n",
      "USDA/NASS/CDL\n",
      "ALOS_landforms\n"
     ]
    }
   ],
   "source": [
    "legends = geemap.builtin_legends\n",
    "for legend in legends:\n",
    "    print(legend)"
   ]
  },
  {
   "cell_type": "code",
   "execution_count": 30,
   "metadata": {},
   "outputs": [
    {
     "data": {
      "application/vnd.jupyter.widget-view+json": {
       "model_id": "e39dadff95024deb83fd3ddd87107f82",
       "version_major": 2,
       "version_minor": 0
      },
      "text/plain": [
       "Map(center=[20, 0], controls=(WidgetControl(options=['position', 'transparent_bg'], widget=HBox(children=(Togg…"
      ]
     },
     "metadata": {},
     "output_type": "display_data"
    }
   ],
   "source": [
    "Map = geemap.Map()\n",
    "Map.add_basemap('HYBRID')\n",
    "landcover = ee.Image('USGS/NLCD/NLCD2016').select('landcover')\n",
    "Map.addLayer(landcover, {}, 'NLCD Land Cover')\n",
    "Map.add_legend(builtin_legend='NLCD')\n",
    "Map"
   ]
  },
  {
   "cell_type": "code",
   "execution_count": 31,
   "metadata": {},
   "outputs": [
    {
     "data": {
      "application/vnd.jupyter.widget-view+json": {
       "model_id": "18043133b95148c7a0f88669f7c03b63",
       "version_major": 2,
       "version_minor": 0
      },
      "text/plain": [
       "Map(center=[20, 0], controls=(WidgetControl(options=['position', 'transparent_bg'], widget=HBox(children=(Togg…"
      ]
     },
     "metadata": {},
     "output_type": "display_data"
    }
   ],
   "source": [
    "Map = geemap.Map()\n",
    "\n",
    "legend_dict = {\n",
    "    '11 Open Water': '466b9f',\n",
    "    '12 Perennial Ice/Snow': 'd1def8',\n",
    "    '21 Developed, Open Space': 'dec5c5',\n",
    "    '22 Developed, Low Intensity': 'd99282',\n",
    "    '23 Developed, Medium Intensity': 'eb0000',\n",
    "    '24 Developed High Intensity': 'ab0000',\n",
    "    '31 Barren Land (Rock/Sand/Clay)': 'b3ac9f',\n",
    "    '41 Deciduous Forest': '68ab5f',\n",
    "    '42 Evergreen Forest': '1c5f2c',\n",
    "    '43 Mixed Forest': 'b5c58f',\n",
    "    '51 Dwarf Scrub': 'af963c',\n",
    "    '52 Shrub/Scrub': 'ccb879',\n",
    "    '71 Grassland/Herbaceous': 'dfdfc2',\n",
    "    '72 Sedge/Herbaceous': 'd1d182',\n",
    "    '73 Lichens': 'a3cc51',\n",
    "    '74 Moss': '82ba9e',\n",
    "    '81 Pasture/Hay': 'dcd939',\n",
    "    '82 Cultivated Crops': 'ab6c28',\n",
    "    '90 Woody Wetlands': 'b8d9eb',\n",
    "    '95 Emergent Herbaceous Wetlands': '6c9fb8',\n",
    "}\n",
    "\n",
    "landcover = ee.Image('USGS/NLCD/NLCD2016').select('landcover')\n",
    "Map.addLayer(landcover, {}, 'NLCD Land Cover')\n",
    "\n",
    "Map.add_legend(legend_title=\"NLCD Land Cover Classification\", legend_dict=legend_dict)\n",
    "Map"
   ]
  },
  {
   "cell_type": "markdown",
   "metadata": {},
   "source": [
    "### Add a colorbar"
   ]
  },
  {
   "cell_type": "code",
   "execution_count": 32,
   "metadata": {},
   "outputs": [
    {
     "data": {
      "application/vnd.jupyter.widget-view+json": {
       "model_id": "0d61687ee0d4439abee003403f9e9e14",
       "version_major": 2,
       "version_minor": 0
      },
      "text/plain": [
       "Map(center=[20, 0], controls=(WidgetControl(options=['position', 'transparent_bg'], widget=HBox(children=(Togg…"
      ]
     },
     "metadata": {},
     "output_type": "display_data"
    }
   ],
   "source": [
    "Map = geemap.Map()\n",
    "\n",
    "dem = ee.Image('USGS/SRTMGL1_003')\n",
    "vis_params = {\n",
    "    'min': 0,\n",
    "    'max': 4000,\n",
    "    'palette': ['006633', 'E5FFCC', '662A00', 'D8D8D8', 'F5F5F5'],\n",
    "}\n",
    "\n",
    "Map.addLayer(dem, vis_params, 'SRTM DEM')\n",
    "\n",
    "colors = vis_params['palette']\n",
    "vmin = vis_params['min']\n",
    "vmax = vis_params['max']\n",
    "\n",
    "Map.add_colorbar(vis_params, label=\"Elevation (m)\", layer_name=\"SRTM DEM\")\n",
    "Map"
   ]
  },
  {
   "cell_type": "code",
   "execution_count": 33,
   "metadata": {},
   "outputs": [],
   "source": [
    "Map.add_colorbar(\n",
    "    vis_params, label=\"Elevation (m)\", layer_name=\"SRTM DEM\", orientation=\"vertical\"\n",
    ")"
   ]
  },
  {
   "cell_type": "code",
   "execution_count": 34,
   "metadata": {},
   "outputs": [],
   "source": [
    "Map.add_colorbar(\n",
    "    vis_params,\n",
    "    label=\"Elevation (m)\",\n",
    "    layer_name=\"SRTM DEM\",\n",
    "    orientation=\"vertical\",\n",
    "    transparent_bg=True,\n",
    ")"
   ]
  },
  {
   "cell_type": "code",
   "execution_count": 35,
   "metadata": {},
   "outputs": [],
   "source": [
    "Map.add_colorbar(\n",
    "    vis_params,\n",
    "    label=\"Elevation (m)\",\n",
    "    layer_name=\"SRTM DEM\",\n",
    "    orientation=\"vertical\",\n",
    "    transparent_bg=True,\n",
    "    discrete=True,\n",
    ")"
   ]
  },
  {
   "cell_type": "markdown",
   "metadata": {},
   "source": [
    "### Create a split-panel map"
   ]
  },
  {
   "cell_type": "code",
   "execution_count": 36,
   "metadata": {},
   "outputs": [
    {
     "data": {
      "application/vnd.jupyter.widget-view+json": {
       "model_id": "a0cbe8df6ca74551acb46659267d0125",
       "version_major": 2,
       "version_minor": 0
      },
      "text/plain": [
       "Map(center=[20, 0], controls=(ZoomControl(options=['position', 'zoom_in_text', 'zoom_in_title', 'zoom_out_text…"
      ]
     },
     "metadata": {},
     "output_type": "display_data"
    }
   ],
   "source": [
    "Map = geemap.Map()\n",
    "Map.split_map(left_layer='HYBRID', right_layer='TERRAIN')\n",
    "Map"
   ]
  },
  {
   "cell_type": "code",
   "execution_count": 37,
   "metadata": {},
   "outputs": [
    {
     "data": {
      "application/vnd.jupyter.widget-view+json": {
       "model_id": "52340d1a07a744149cb97cc31ef0151e",
       "version_major": 2,
       "version_minor": 0
      },
      "text/plain": [
       "Map(center=[20, 0], controls=(ZoomControl(options=['position', 'zoom_in_text', 'zoom_in_title', 'zoom_out_text…"
      ]
     },
     "metadata": {},
     "output_type": "display_data"
    }
   ],
   "source": [
    "Map = geemap.Map()\n",
    "Map.split_map(\n",
    "    left_layer='NLCD 2016 CONUS Land Cover', right_layer='NLCD 2001 CONUS Land Cover'\n",
    ")\n",
    "Map"
   ]
  },
  {
   "cell_type": "code",
   "execution_count": 38,
   "metadata": {},
   "outputs": [
    {
     "data": {
      "application/vnd.jupyter.widget-view+json": {
       "model_id": "5b9f37fc0575414a94f8ed23cfe59e14",
       "version_major": 2,
       "version_minor": 0
      },
      "text/plain": [
       "Map(center=[20, 0], controls=(ZoomControl(options=['position', 'zoom_in_text', 'zoom_in_title', 'zoom_out_text…"
      ]
     },
     "metadata": {},
     "output_type": "display_data"
    }
   ],
   "source": [
    "nlcd_2001 = ee.Image('USGS/NLCD/NLCD2001').select('landcover')\n",
    "nlcd_2016 = ee.Image('USGS/NLCD/NLCD2016').select('landcover')\n",
    "\n",
    "left_layer = geemap.ee_tile_layer(nlcd_2001, {}, 'NLCD 2001')\n",
    "right_layer = geemap.ee_tile_layer(nlcd_2016, {}, 'NLCD 2016')\n",
    "\n",
    "Map = geemap.Map()\n",
    "Map.split_map(left_layer, right_layer)\n",
    "Map"
   ]
  },
  {
   "cell_type": "markdown",
   "metadata": {},
   "source": [
    "### Create linked maps"
   ]
  },
  {
   "cell_type": "code",
   "execution_count": 39,
   "metadata": {},
   "outputs": [
    {
     "data": {
      "application/vnd.jupyter.widget-view+json": {
       "model_id": "afd884f70d4042e7b4081fa88041314f",
       "version_major": 2,
       "version_minor": 0
      },
      "text/plain": [
       "GridspecLayout(children=(Output(layout=Layout(grid_area='widget001')), Output(layout=Layout(grid_area='widget0…"
      ]
     },
     "metadata": {},
     "output_type": "display_data"
    }
   ],
   "source": [
    "image = (\n",
    "    ee.ImageCollection('COPERNICUS/S2')\n",
    "    .filterDate('2018-09-01', '2018-09-30')\n",
    "    .map(lambda img: img.divide(10000))\n",
    "    .median()\n",
    ")\n",
    "\n",
    "vis_params = [\n",
    "    {'bands': ['B4', 'B3', 'B2'], 'min': 0, 'max': 0.3, 'gamma': 1.3},\n",
    "    {'bands': ['B8', 'B11', 'B4'], 'min': 0, 'max': 0.3, 'gamma': 1.3},\n",
    "    {'bands': ['B8', 'B4', 'B3'], 'min': 0, 'max': 0.3, 'gamma': 1.3},\n",
    "    {'bands': ['B12', 'B12', 'B4'], 'min': 0, 'max': 0.3, 'gamma': 1.3},\n",
    "]\n",
    "\n",
    "labels = [\n",
    "    'Natural Color (B4/B3/B2)',\n",
    "    'Land/Water (B8/B11/B4)',\n",
    "    'Color Infrared (B8/B4/B3)',\n",
    "    'Vegetation (B12/B11/B4)',\n",
    "]\n",
    "\n",
    "geemap.linked_maps(\n",
    "    rows=2,\n",
    "    cols=2,\n",
    "    height=\"400px\",\n",
    "    center=[38.4151, 21.2712],\n",
    "    zoom=12,\n",
    "    ee_objects=[image],\n",
    "    vis_params=vis_params,\n",
    "    labels=labels,\n",
    "    label_position=\"topright\",\n",
    ")"
   ]
  },
  {
   "cell_type": "markdown",
   "metadata": {},
   "source": [
    "### Create timelapse animations"
   ]
  },
  {
   "cell_type": "code",
   "execution_count": 40,
   "metadata": {},
   "outputs": [
    {
     "data": {
      "application/vnd.jupyter.widget-view+json": {
       "model_id": "1952146962e848a0a307e494a34bfee7",
       "version_major": 2,
       "version_minor": 0
      },
      "text/plain": [
       "Output(layout=Layout(width='815px'))"
      ]
     },
     "metadata": {},
     "output_type": "display_data"
    }
   ],
   "source": [
    "geemap.show_youtube('https://youtu.be/mA21Us_3m28')"
   ]
  },
  {
   "cell_type": "markdown",
   "metadata": {},
   "source": [
    "### Create time-series composites"
   ]
  },
  {
   "cell_type": "code",
   "execution_count": null,
   "metadata": {},
   "outputs": [],
   "source": [
    "geemap.show_youtube('https://youtu.be/kEltQkNia6o')"
   ]
  },
  {
   "cell_type": "markdown",
   "metadata": {},
   "source": [
    "## Data analysis"
   ]
  },
  {
   "cell_type": "markdown",
   "metadata": {},
   "source": [
    "### Descriptive statistics"
   ]
  },
  {
   "cell_type": "code",
   "execution_count": null,
   "metadata": {},
   "outputs": [],
   "source": [
    "Map = geemap.Map()\n",
    "\n",
    "centroid = ee.Geometry.Point([-122.4439, 37.7538])\n",
    "\n",
    "image = ee.ImageCollection('LANDSAT/LC08/C01/T1_SR').filterBounds(centroid).first()\n",
    "\n",
    "vis = {'min': 0, 'max': 3000, 'bands': ['B5', 'B4', 'B3']}\n",
    "\n",
    "Map.centerObject(centroid, 8)\n",
    "Map.addLayer(image, vis, \"Landsat-8\")\n",
    "Map"
   ]
  },
  {
   "cell_type": "code",
   "execution_count": null,
   "metadata": {},
   "outputs": [],
   "source": [
    "image.propertyNames().getInfo()"
   ]
  },
  {
   "cell_type": "code",
   "execution_count": null,
   "metadata": {},
   "outputs": [],
   "source": [
    "image.get('CLOUD_COVER').getInfo()"
   ]
  },
  {
   "cell_type": "code",
   "execution_count": null,
   "metadata": {},
   "outputs": [],
   "source": [
    "props = geemap.image_props(image)\n",
    "props.getInfo()"
   ]
  },
  {
   "cell_type": "code",
   "execution_count": null,
   "metadata": {},
   "outputs": [],
   "source": [
    "stats = geemap.image_stats(image, scale=90)\n",
    "stats.getInfo()"
   ]
  },
  {
   "cell_type": "markdown",
   "metadata": {},
   "source": [
    "### Zonal statistics"
   ]
  },
  {
   "cell_type": "code",
   "execution_count": null,
   "metadata": {},
   "outputs": [],
   "source": [
    "Map = geemap.Map()\n",
    "\n",
    "# Add Earth Engine dataset\n",
    "dem = ee.Image('USGS/SRTMGL1_003')\n",
    "\n",
    "# Set visualization parameters.\n",
    "dem_vis = {\n",
    "    'min': 0,\n",
    "    'max': 4000,\n",
    "    'palette': ['006633', 'E5FFCC', '662A00', 'D8D8D8', 'F5F5F5'],\n",
    "}\n",
    "\n",
    "# Add Earth Engine DEM to map\n",
    "Map.addLayer(dem, dem_vis, 'SRTM DEM')\n",
    "\n",
    "# Add Landsat data to map\n",
    "landsat = ee.Image('LANDSAT/LE7_TOA_5YEAR/1999_2003')\n",
    "\n",
    "landsat_vis = {'bands': ['B4', 'B3', 'B2'], 'gamma': 1.4}\n",
    "Map.addLayer(landsat, landsat_vis, \"LE7_TOA_5YEAR/1999_2003\")\n",
    "\n",
    "states = ee.FeatureCollection(\"TIGER/2018/States\")\n",
    "Map.addLayer(states, {}, 'US States')\n",
    "Map"
   ]
  },
  {
   "cell_type": "code",
   "execution_count": null,
   "metadata": {},
   "outputs": [],
   "source": [
    "out_dir = os.path.expanduser('~/Downloads')\n",
    "out_dem_stats = os.path.join(out_dir, 'dem_stats.csv')\n",
    "\n",
    "if not os.path.exists(out_dir):\n",
    "    os.makedirs(out_dir)\n",
    "\n",
    "# Allowed output formats: csv, shp, json, kml, kmz\n",
    "# Allowed statistics type: MEAN, MAXIMUM, MINIMUM, MEDIAN, STD, MIN_MAX, VARIANCE, SUM\n",
    "geemap.zonal_statistics(dem, states, out_dem_stats, statistics_type='MEAN', scale=1000)"
   ]
  },
  {
   "cell_type": "code",
   "execution_count": null,
   "metadata": {},
   "outputs": [],
   "source": [
    "out_landsat_stats = os.path.join(out_dir, 'landsat_stats.csv')\n",
    "geemap.zonal_statistics(\n",
    "    landsat, states, out_landsat_stats, statistics_type='SUM', scale=1000\n",
    ")"
   ]
  },
  {
   "cell_type": "markdown",
   "metadata": {},
   "source": [
    "### Zonal statistics by group"
   ]
  },
  {
   "cell_type": "code",
   "execution_count": null,
   "metadata": {},
   "outputs": [],
   "source": [
    "Map = geemap.Map()\n",
    "\n",
    "dataset = ee.Image('USGS/NLCD/NLCD2016')\n",
    "landcover = ee.Image(dataset.select('landcover'))\n",
    "Map.addLayer(landcover, {}, 'NLCD 2016')\n",
    "\n",
    "states = ee.FeatureCollection(\"TIGER/2018/States\")\n",
    "Map.addLayer(states, {}, 'US States')\n",
    "Map.add_legend(builtin_legend='NLCD')\n",
    "Map"
   ]
  },
  {
   "cell_type": "code",
   "execution_count": null,
   "metadata": {},
   "outputs": [],
   "source": [
    "out_dir = os.path.expanduser('~/Downloads')\n",
    "nlcd_stats = os.path.join(out_dir, 'nlcd_stats.csv')\n",
    "\n",
    "if not os.path.exists(out_dir):\n",
    "    os.makedirs(out_dir)\n",
    "\n",
    "# statistics_type can be either 'SUM' or 'PERCENTAGE'\n",
    "# denominator can be used to convert square meters to other areal units, such as square kilimeters\n",
    "geemap.zonal_statistics_by_group(\n",
    "    landcover,\n",
    "    states,\n",
    "    nlcd_stats,\n",
    "    statistics_type='SUM',\n",
    "    denominator=1000000,\n",
    "    decimal_places=2,\n",
    ")"
   ]
  },
  {
   "cell_type": "markdown",
   "metadata": {},
   "source": [
    "## Data export"
   ]
  },
  {
   "cell_type": "markdown",
   "metadata": {},
   "source": [
    "### Export ee.Image"
   ]
  },
  {
   "cell_type": "code",
   "execution_count": null,
   "metadata": {},
   "outputs": [],
   "source": [
    "Map = geemap.Map()\n",
    "\n",
    "image = ee.Image('LANDSAT/LE7_TOA_5YEAR/1999_2003')\n",
    "\n",
    "landsat_vis = {'bands': ['B4', 'B3', 'B2'], 'gamma': 1.4}\n",
    "Map.addLayer(image, landsat_vis, \"LE7_TOA_5YEAR/1999_2003\", True, 1)\n",
    "\n",
    "Map"
   ]
  },
  {
   "cell_type": "code",
   "execution_count": null,
   "metadata": {},
   "outputs": [],
   "source": [
    "# Draw any shapes on the map using the Drawing tools before executing this code block\n",
    "roi = Map.user_roi\n",
    "\n",
    "if roi is None:\n",
    "    roi = ee.Geometry.Polygon(\n",
    "        [\n",
    "            [\n",
    "                [-115.413031, 35.889467],\n",
    "                [-115.413031, 36.543157],\n",
    "                [-114.034328, 36.543157],\n",
    "                [-114.034328, 35.889467],\n",
    "                [-115.413031, 35.889467],\n",
    "            ]\n",
    "        ]\n",
    "    )"
   ]
  },
  {
   "cell_type": "code",
   "execution_count": null,
   "metadata": {},
   "outputs": [],
   "source": [
    "# Set output directory\n",
    "out_dir = os.path.expanduser('~/Downloads')\n",
    "\n",
    "if not os.path.exists(out_dir):\n",
    "    os.makedirs(out_dir)\n",
    "\n",
    "filename = os.path.join(out_dir, 'landsat.tif')"
   ]
  },
  {
   "cell_type": "markdown",
   "metadata": {},
   "source": [
    "Exporting all bands as one single image"
   ]
  },
  {
   "cell_type": "code",
   "execution_count": null,
   "metadata": {
    "scrolled": true
   },
   "outputs": [],
   "source": [
    "image = image.clip(roi).unmask()\n",
    "geemap.ee_export_image(\n",
    "    image, filename=filename, scale=90, region=roi, file_per_band=False\n",
    ")"
   ]
  },
  {
   "cell_type": "markdown",
   "metadata": {},
   "source": [
    "Exporting each band as one image"
   ]
  },
  {
   "cell_type": "code",
   "execution_count": null,
   "metadata": {},
   "outputs": [],
   "source": [
    "geemap.ee_export_image(\n",
    "    image, filename=filename, scale=90, region=roi, file_per_band=True\n",
    ")"
   ]
  },
  {
   "cell_type": "markdown",
   "metadata": {},
   "source": [
    "Export an image to Google Drive¶"
   ]
  },
  {
   "cell_type": "code",
   "execution_count": null,
   "metadata": {},
   "outputs": [],
   "source": [
    "# geemap.ee_export_image_to_drive(image, description='landsat', folder='export', region=roi, scale=30)"
   ]
  },
  {
   "cell_type": "markdown",
   "metadata": {},
   "source": [
    "### Export ee.ImageCollection"
   ]
  },
  {
   "cell_type": "code",
   "execution_count": null,
   "metadata": {},
   "outputs": [],
   "source": [
    "loc = ee.Geometry.Point(-99.2222, 46.7816)\n",
    "collection = (\n",
    "    ee.ImageCollection('USDA/NAIP/DOQQ')\n",
    "    .filterBounds(loc)\n",
    "    .filterDate('2008-01-01', '2020-01-01')\n",
    "    .filter(ee.Filter.listContains(\"system:band_names\", \"N\"))\n",
    ")"
   ]
  },
  {
   "cell_type": "code",
   "execution_count": null,
   "metadata": {},
   "outputs": [],
   "source": [
    "collection.aggregate_array('system:index').getInfo()"
   ]
  },
  {
   "cell_type": "code",
   "execution_count": null,
   "metadata": {},
   "outputs": [],
   "source": [
    "geemap.ee_export_image_collection(collection, out_dir=out_dir)"
   ]
  },
  {
   "cell_type": "code",
   "execution_count": null,
   "metadata": {},
   "outputs": [],
   "source": [
    "# geemap.ee_export_image_collection_to_drive(collection, folder='export', scale=10)"
   ]
  },
  {
   "cell_type": "markdown",
   "metadata": {},
   "source": [
    "### Extract pixels as a numpy array"
   ]
  },
  {
   "cell_type": "code",
   "execution_count": null,
   "metadata": {},
   "outputs": [],
   "source": [
    "import matplotlib.pyplot as plt\n",
    "\n",
    "img = ee.Image('LANDSAT/LC08/C01/T1_SR/LC08_038029_20180810').select(['B4', 'B5', 'B6'])\n",
    "\n",
    "aoi = ee.Geometry.Polygon(\n",
    "    [[[-110.8, 44.7], [-110.8, 44.6], [-110.6, 44.6], [-110.6, 44.7]]], None, False\n",
    ")\n",
    "\n",
    "rgb_img = geemap.ee_to_numpy(img, region=aoi)\n",
    "print(rgb_img.shape)"
   ]
  },
  {
   "cell_type": "code",
   "execution_count": null,
   "metadata": {},
   "outputs": [],
   "source": [
    "rgb_img_test = (255 * ((rgb_img[:, :, 0:3] - 100) / 3500)).astype('uint8')\n",
    "plt.imshow(rgb_img_test)\n",
    "plt.show()"
   ]
  },
  {
   "cell_type": "markdown",
   "metadata": {},
   "source": [
    "### Export pixel values to points"
   ]
  },
  {
   "cell_type": "code",
   "execution_count": null,
   "metadata": {},
   "outputs": [],
   "source": [
    "Map = geemap.Map()\n",
    "\n",
    "# Add Earth Engine dataset\n",
    "dem = ee.Image('USGS/SRTMGL1_003')\n",
    "landsat7 = ee.Image('LANDSAT/LE7_TOA_5YEAR/1999_2003')\n",
    "\n",
    "# Set visualization parameters.\n",
    "vis_params = {\n",
    "    'min': 0,\n",
    "    'max': 4000,\n",
    "    'palette': ['006633', 'E5FFCC', '662A00', 'D8D8D8', 'F5F5F5'],\n",
    "}\n",
    "\n",
    "# Add Earth Engine layers to Map\n",
    "Map.addLayer(\n",
    "    landsat7, {'bands': ['B4', 'B3', 'B2'], 'min': 20, 'max': 200}, 'Landsat 7'\n",
    ")\n",
    "Map.addLayer(dem, vis_params, 'SRTM DEM', True, 1)\n",
    "Map"
   ]
  },
  {
   "cell_type": "markdown",
   "metadata": {},
   "source": [
    "**Download sample data**"
   ]
  },
  {
   "cell_type": "code",
   "execution_count": null,
   "metadata": {},
   "outputs": [],
   "source": [
    "work_dir = os.path.expanduser('~/Downloads')\n",
    "in_shp = os.path.join(work_dir, 'us_cities.shp')\n",
    "if not os.path.exists(in_shp):\n",
    "    data_url = 'https://github.com/giswqs/data/raw/main/us/us_cities.zip'\n",
    "    geemap.download_from_url(data_url, out_dir=work_dir)"
   ]
  },
  {
   "cell_type": "code",
   "execution_count": null,
   "metadata": {},
   "outputs": [],
   "source": [
    "in_fc = geemap.shp_to_ee(in_shp)\n",
    "Map.addLayer(in_fc, {}, 'Cities')"
   ]
  },
  {
   "cell_type": "markdown",
   "metadata": {},
   "source": [
    "**Export pixel values as a shapefile**"
   ]
  },
  {
   "cell_type": "code",
   "execution_count": null,
   "metadata": {},
   "outputs": [],
   "source": [
    "out_shp = os.path.join(work_dir, 'dem.shp')\n",
    "geemap.extract_values_to_points(in_fc, dem, out_shp)"
   ]
  },
  {
   "cell_type": "markdown",
   "metadata": {},
   "source": [
    "**Export pixel values as a csv**"
   ]
  },
  {
   "cell_type": "code",
   "execution_count": null,
   "metadata": {},
   "outputs": [],
   "source": [
    "out_csv = os.path.join(work_dir, 'landsat.csv')\n",
    "geemap.extract_values_to_points(in_fc, landsat7, out_csv)"
   ]
  },
  {
   "cell_type": "markdown",
   "metadata": {},
   "source": [
    "### Export ee.FeatureCollection"
   ]
  },
  {
   "cell_type": "code",
   "execution_count": null,
   "metadata": {},
   "outputs": [],
   "source": [
    "Map = geemap.Map()\n",
    "\n",
    "fc = ee.FeatureCollection('users/giswqs/public/countries')\n",
    "Map.addLayer(fc, {}, \"Countries\")\n",
    "Map"
   ]
  },
  {
   "cell_type": "code",
   "execution_count": null,
   "metadata": {},
   "outputs": [],
   "source": [
    "out_dir = os.path.expanduser('~/Downloads')\n",
    "out_shp = os.path.join(out_dir, 'countries.shp')"
   ]
  },
  {
   "cell_type": "code",
   "execution_count": null,
   "metadata": {},
   "outputs": [],
   "source": [
    "geemap.ee_to_shp(fc, filename=out_shp)"
   ]
  },
  {
   "cell_type": "code",
   "execution_count": null,
   "metadata": {},
   "outputs": [],
   "source": [
    "out_csv = os.path.join(out_dir, 'countries.csv')\n",
    "geemap.ee_export_vector(fc, filename=out_csv)"
   ]
  },
  {
   "cell_type": "code",
   "execution_count": null,
   "metadata": {},
   "outputs": [],
   "source": [
    "out_kml = os.path.join(out_dir, 'countries.kml')\n",
    "geemap.ee_export_vector(fc, filename=out_kml)"
   ]
  },
  {
   "cell_type": "code",
   "execution_count": null,
   "metadata": {},
   "outputs": [],
   "source": [
    "# geemap.ee_export_vector_to_drive(fc, description=\"countries\", folder=\"export\", file_format=\"shp\")"
   ]
  }
 ],
 "metadata": {
  "hide_input": false,
  "kernelspec": {
   "display_name": "Python 3 (ipykernel)",
   "language": "python",
   "name": "python3"
  },
  "language_info": {
   "codemirror_mode": {
    "name": "ipython",
    "version": 3
   },
   "file_extension": ".py",
   "mimetype": "text/x-python",
   "name": "python",
   "nbconvert_exporter": "python",
   "pygments_lexer": "ipython3",
   "version": "3.9.13"
  },
  "toc": {
   "base_numbering": 1,
   "nav_menu": {},
   "number_sections": true,
   "sideBar": true,
   "skip_h1_title": false,
   "title_cell": "Table of Contents",
   "title_sidebar": "Contents",
   "toc_cell": false,
   "toc_position": {
    "height": "calc(100% - 180px)",
    "left": "10px",
    "top": "150px",
    "width": "417px"
   },
   "toc_section_display": true,
   "toc_window_display": true
  },
  "varInspector": {
   "cols": {
    "lenName": 16,
    "lenType": 16,
    "lenVar": 40
   },
   "kernels_config": {
    "python": {
     "delete_cmd_postfix": "",
     "delete_cmd_prefix": "del ",
     "library": "var_list.py",
     "varRefreshCmd": "print(var_dic_list())"
    },
    "r": {
     "delete_cmd_postfix": ") ",
     "delete_cmd_prefix": "rm(",
     "library": "var_list.r",
     "varRefreshCmd": "cat(var_dic_list()) "
    }
   },
   "types_to_exclude": [
    "module",
    "function",
    "builtin_function_or_method",
    "instance",
    "_Feature"
   ],
   "window_display": false
  }
 },
 "nbformat": 4,
 "nbformat_minor": 4
}
