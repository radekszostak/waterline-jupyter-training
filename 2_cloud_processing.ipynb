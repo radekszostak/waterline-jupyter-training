{
 "cells": [
  {
   "cell_type": "markdown",
   "metadata": {},
   "source": [
    "# Imports"
   ]
  },
  {
   "cell_type": "code",
   "execution_count": 1,
   "metadata": {},
   "outputs": [],
   "source": [
    "import geopandas as gpd #local shape processing\n",
    "import rioxarray as rxr #local raster processing\n",
    "import geemap #cloud interactive visualisation and processing using Google Earth Engine\n",
    "import matplotlib.pyplot as plt #python plotting package"
   ]
  },
  {
   "cell_type": "code",
   "execution_count": null,
   "metadata": {},
   "outputs": [],
   "source": [
    "#Visualise\n",
    "Map = geemap.Map()\n",
    "#visualise raster by path\n",
    "Map.add_raster(\"data/lst.tif\", layer_name=\"LST\")\n",
    "#visualise shape by path\n",
    "Map.add_geojson(\"data/catchment.geojson\", layer_name=\"Catchment\", fill_colors=['red'])\n",
    "#visualise geodataframe shape object\n",
    "Map.add_gdf(catchment_gdf.convex_hull, layer_name=\"Catchment - convex hull\", fill_colors=['red'])\n",
    "Map.addLayerControl()\n",
    "Map"
   ]
  }
 ],
 "metadata": {
  "kernelspec": {
   "display_name": "Python 3 (ipykernel)",
   "language": "python",
   "name": "python3"
  },
  "language_info": {
   "codemirror_mode": {
    "name": "ipython",
    "version": 3
   },
   "file_extension": ".py",
   "mimetype": "text/x-python",
   "name": "python",
   "nbconvert_exporter": "python",
   "pygments_lexer": "ipython3",
   "version": "3.9.13"
  }
 },
 "nbformat": 4,
 "nbformat_minor": 4
}
